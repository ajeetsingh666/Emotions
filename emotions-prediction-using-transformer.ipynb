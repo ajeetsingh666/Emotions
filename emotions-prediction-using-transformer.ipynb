{
 "cells": [
  {
   "cell_type": "code",
   "execution_count": 1,
   "id": "62658487",
   "metadata": {
    "execution": {
     "iopub.execute_input": "2024-05-14T12:55:41.265750Z",
     "iopub.status.busy": "2024-05-14T12:55:41.264721Z",
     "iopub.status.idle": "2024-05-14T12:55:56.811180Z",
     "shell.execute_reply": "2024-05-14T12:55:56.809984Z"
    },
    "papermill": {
     "duration": 15.558013,
     "end_time": "2024-05-14T12:55:56.813783",
     "exception": false,
     "start_time": "2024-05-14T12:55:41.255770",
     "status": "completed"
    },
    "tags": []
   },
   "outputs": [
    {
     "name": "stderr",
     "output_type": "stream",
     "text": [
      "2024-05-14 12:55:45.910288: E external/local_xla/xla/stream_executor/cuda/cuda_dnn.cc:9261] Unable to register cuDNN factory: Attempting to register factory for plugin cuDNN when one has already been registered\n",
      "2024-05-14 12:55:45.910430: E external/local_xla/xla/stream_executor/cuda/cuda_fft.cc:607] Unable to register cuFFT factory: Attempting to register factory for plugin cuFFT when one has already been registered\n",
      "2024-05-14 12:55:46.055991: E external/local_xla/xla/stream_executor/cuda/cuda_blas.cc:1515] Unable to register cuBLAS factory: Attempting to register factory for plugin cuBLAS when one has already been registered\n"
     ]
    }
   ],
   "source": [
    "import pandas as pd\n",
    "import numpy as np\n",
    "import matplotlib.pyplot as plt\n",
    "import re\n",
    "import string\n",
    "import nltk\n",
    "from nltk.corpus import stopwords\n",
    "from sklearn.model_selection import train_test_split\n",
    "from sklearn.feature_extraction.text import CountVectorizer\n",
    "from sklearn.feature_extraction.text import TfidfVectorizer\n",
    "from sklearn.metrics import accuracy_score, confusion_matrix\n",
    "import tensorflow as tf\n",
    "from tensorflow.keras.models import Sequential\n",
    "from tensorflow.keras.layers import Dense, Dropout\n",
    "from tensorflow.keras.callbacks import EarlyStopping\n",
    "import seaborn as sns\n",
    "import tensorflow as tf\n",
    "\n",
    "import warnings\n",
    "warnings.filterwarnings(\"ignore\")"
   ]
  },
  {
   "cell_type": "code",
   "execution_count": 2,
   "id": "a0b24e4b",
   "metadata": {
    "execution": {
     "iopub.execute_input": "2024-05-14T12:55:56.829306Z",
     "iopub.status.busy": "2024-05-14T12:55:56.828667Z",
     "iopub.status.idle": "2024-05-14T12:55:58.111051Z",
     "shell.execute_reply": "2024-05-14T12:55:58.110108Z"
    },
    "papermill": {
     "duration": 1.292744,
     "end_time": "2024-05-14T12:55:58.113557",
     "exception": false,
     "start_time": "2024-05-14T12:55:56.820813",
     "status": "completed"
    },
    "tags": []
   },
   "outputs": [
    {
     "data": {
      "text/html": [
       "<div>\n",
       "<style scoped>\n",
       "    .dataframe tbody tr th:only-of-type {\n",
       "        vertical-align: middle;\n",
       "    }\n",
       "\n",
       "    .dataframe tbody tr th {\n",
       "        vertical-align: top;\n",
       "    }\n",
       "\n",
       "    .dataframe thead th {\n",
       "        text-align: right;\n",
       "    }\n",
       "</style>\n",
       "<table border=\"1\" class=\"dataframe\">\n",
       "  <thead>\n",
       "    <tr style=\"text-align: right;\">\n",
       "      <th></th>\n",
       "      <th>Unnamed: 0</th>\n",
       "      <th>text</th>\n",
       "      <th>label</th>\n",
       "    </tr>\n",
       "  </thead>\n",
       "  <tbody>\n",
       "    <tr>\n",
       "      <th>0</th>\n",
       "      <td>0</td>\n",
       "      <td>i just feel really helpless and heavy hearted</td>\n",
       "      <td>4</td>\n",
       "    </tr>\n",
       "    <tr>\n",
       "      <th>1</th>\n",
       "      <td>1</td>\n",
       "      <td>ive enjoyed being able to slouch about relax a...</td>\n",
       "      <td>0</td>\n",
       "    </tr>\n",
       "    <tr>\n",
       "      <th>2</th>\n",
       "      <td>2</td>\n",
       "      <td>i gave up my internship with the dmrg and am f...</td>\n",
       "      <td>4</td>\n",
       "    </tr>\n",
       "    <tr>\n",
       "      <th>3</th>\n",
       "      <td>3</td>\n",
       "      <td>i dont know i feel so lost</td>\n",
       "      <td>0</td>\n",
       "    </tr>\n",
       "    <tr>\n",
       "      <th>4</th>\n",
       "      <td>4</td>\n",
       "      <td>i am a kindergarten teacher and i am thoroughl...</td>\n",
       "      <td>4</td>\n",
       "    </tr>\n",
       "  </tbody>\n",
       "</table>\n",
       "</div>"
      ],
      "text/plain": [
       "   Unnamed: 0                                               text  label\n",
       "0           0      i just feel really helpless and heavy hearted      4\n",
       "1           1  ive enjoyed being able to slouch about relax a...      0\n",
       "2           2  i gave up my internship with the dmrg and am f...      4\n",
       "3           3                         i dont know i feel so lost      0\n",
       "4           4  i am a kindergarten teacher and i am thoroughl...      4"
      ]
     },
     "execution_count": 2,
     "metadata": {},
     "output_type": "execute_result"
    }
   ],
   "source": [
    "df = pd.read_csv(\"/kaggle/input/emotions/text.csv\")\n",
    "df.head()"
   ]
  },
  {
   "cell_type": "code",
   "execution_count": 3,
   "id": "d6d41988",
   "metadata": {
    "execution": {
     "iopub.execute_input": "2024-05-14T12:55:58.129849Z",
     "iopub.status.busy": "2024-05-14T12:55:58.128907Z",
     "iopub.status.idle": "2024-05-14T12:55:58.182753Z",
     "shell.execute_reply": "2024-05-14T12:55:58.181418Z"
    },
    "papermill": {
     "duration": 0.064612,
     "end_time": "2024-05-14T12:55:58.185280",
     "exception": false,
     "start_time": "2024-05-14T12:55:58.120668",
     "status": "completed"
    },
    "tags": []
   },
   "outputs": [
    {
     "name": "stdout",
     "output_type": "stream",
     "text": [
      "<class 'pandas.core.frame.DataFrame'>\n",
      "RangeIndex: 416809 entries, 0 to 416808\n",
      "Data columns (total 3 columns):\n",
      " #   Column      Non-Null Count   Dtype \n",
      "---  ------      --------------   ----- \n",
      " 0   Unnamed: 0  416809 non-null  int64 \n",
      " 1   text        416809 non-null  object\n",
      " 2   label       416809 non-null  int64 \n",
      "dtypes: int64(2), object(1)\n",
      "memory usage: 9.5+ MB\n"
     ]
    }
   ],
   "source": [
    "df.info()"
   ]
  },
  {
   "cell_type": "code",
   "execution_count": 4,
   "id": "84415797",
   "metadata": {
    "execution": {
     "iopub.execute_input": "2024-05-14T12:55:58.202107Z",
     "iopub.status.busy": "2024-05-14T12:55:58.201673Z",
     "iopub.status.idle": "2024-05-14T12:55:58.240405Z",
     "shell.execute_reply": "2024-05-14T12:55:58.239384Z"
    },
    "papermill": {
     "duration": 0.050316,
     "end_time": "2024-05-14T12:55:58.242572",
     "exception": false,
     "start_time": "2024-05-14T12:55:58.192256",
     "status": "completed"
    },
    "tags": []
   },
   "outputs": [
    {
     "data": {
      "text/plain": [
       "Unnamed: 0    0\n",
       "text          0\n",
       "label         0\n",
       "dtype: int64"
      ]
     },
     "execution_count": 4,
     "metadata": {},
     "output_type": "execute_result"
    }
   ],
   "source": [
    "df.isnull().sum()"
   ]
  },
  {
   "cell_type": "code",
   "execution_count": 5,
   "id": "a0ec9d9b",
   "metadata": {
    "execution": {
     "iopub.execute_input": "2024-05-14T12:55:58.258546Z",
     "iopub.status.busy": "2024-05-14T12:55:58.257590Z",
     "iopub.status.idle": "2024-05-14T12:55:58.278137Z",
     "shell.execute_reply": "2024-05-14T12:55:58.277074Z"
    },
    "papermill": {
     "duration": 0.031563,
     "end_time": "2024-05-14T12:55:58.281133",
     "exception": false,
     "start_time": "2024-05-14T12:55:58.249570",
     "status": "completed"
    },
    "tags": []
   },
   "outputs": [],
   "source": [
    "df.drop('Unnamed: 0', axis=1, inplace=True)"
   ]
  },
  {
   "cell_type": "markdown",
   "id": "575fff2a",
   "metadata": {
    "papermill": {
     "duration": 0.007165,
     "end_time": "2024-05-14T12:55:58.297807",
     "exception": false,
     "start_time": "2024-05-14T12:55:58.290642",
     "status": "completed"
    },
    "tags": []
   },
   "source": [
    "Six categories: sadness (0), joy (1), love (2), anger (3), fear (4), and surprise (5)."
   ]
  },
  {
   "cell_type": "code",
   "execution_count": 6,
   "id": "245dd854",
   "metadata": {
    "execution": {
     "iopub.execute_input": "2024-05-14T12:55:58.314271Z",
     "iopub.status.busy": "2024-05-14T12:55:58.313868Z",
     "iopub.status.idle": "2024-05-14T12:55:58.327532Z",
     "shell.execute_reply": "2024-05-14T12:55:58.326502Z"
    },
    "papermill": {
     "duration": 0.023634,
     "end_time": "2024-05-14T12:55:58.329483",
     "exception": false,
     "start_time": "2024-05-14T12:55:58.305849",
     "status": "completed"
    },
    "tags": []
   },
   "outputs": [
    {
     "data": {
      "text/plain": [
       "label\n",
       "1    141067\n",
       "0    121187\n",
       "3     57317\n",
       "4     47712\n",
       "2     34554\n",
       "5     14972\n",
       "Name: count, dtype: int64"
      ]
     },
     "execution_count": 6,
     "metadata": {},
     "output_type": "execute_result"
    }
   ],
   "source": [
    "df['label'].value_counts()"
   ]
  },
  {
   "cell_type": "code",
   "execution_count": 7,
   "id": "6186b021",
   "metadata": {
    "execution": {
     "iopub.execute_input": "2024-05-14T12:55:58.346002Z",
     "iopub.status.busy": "2024-05-14T12:55:58.345023Z",
     "iopub.status.idle": "2024-05-14T12:55:58.357700Z",
     "shell.execute_reply": "2024-05-14T12:55:58.356661Z"
    },
    "papermill": {
     "duration": 0.023483,
     "end_time": "2024-05-14T12:55:58.360133",
     "exception": false,
     "start_time": "2024-05-14T12:55:58.336650",
     "status": "completed"
    },
    "tags": []
   },
   "outputs": [],
   "source": [
    "stop_words = stopwords.words('english')\n",
    "\n",
    "def data_cleaning(text):\n",
    "\n",
    "    # Convert to lower\n",
    "    text = text.lower()\n",
    "    \n",
    "    remove_stopwords = [word for word in text.split() if word not in stop_words]\n",
    "    text = ' '.join(remove_stopwords)\n",
    "    \n",
    "    # Remove punctuations\n",
    "    text = text.translate(str.maketrans('', '', string.punctuation))\n",
    "    \n",
    "    # Remove digits\n",
    "    text = re.sub(r\"\\d\", '', text)\n",
    "    \n",
    "    # Remove extra spaces\n",
    "    text = re.sub(r\"\\s+\", \" \", text)\n",
    "    \n",
    "    return text"
   ]
  },
  {
   "cell_type": "code",
   "execution_count": 8,
   "id": "70694128",
   "metadata": {
    "execution": {
     "iopub.execute_input": "2024-05-14T12:55:58.377332Z",
     "iopub.status.busy": "2024-05-14T12:55:58.376939Z",
     "iopub.status.idle": "2024-05-14T12:56:17.348032Z",
     "shell.execute_reply": "2024-05-14T12:56:17.346963Z"
    },
    "papermill": {
     "duration": 18.981901,
     "end_time": "2024-05-14T12:56:17.350619",
     "exception": false,
     "start_time": "2024-05-14T12:55:58.368718",
     "status": "completed"
    },
    "tags": []
   },
   "outputs": [],
   "source": [
    "df['cleaned_text'] = df['text'].apply(data_cleaning)"
   ]
  },
  {
   "cell_type": "markdown",
   "id": "0c76279a",
   "metadata": {
    "papermill": {
     "duration": 0.00721,
     "end_time": "2024-05-14T12:56:17.365091",
     "exception": false,
     "start_time": "2024-05-14T12:56:17.357881",
     "status": "completed"
    },
    "tags": []
   },
   "source": [
    "# Modeling"
   ]
  },
  {
   "cell_type": "code",
   "execution_count": 9,
   "id": "8f44270c",
   "metadata": {
    "execution": {
     "iopub.execute_input": "2024-05-14T12:56:17.380689Z",
     "iopub.status.busy": "2024-05-14T12:56:17.380327Z",
     "iopub.status.idle": "2024-05-14T12:56:17.439127Z",
     "shell.execute_reply": "2024-05-14T12:56:17.437919Z"
    },
    "papermill": {
     "duration": 0.070575,
     "end_time": "2024-05-14T12:56:17.442747",
     "exception": false,
     "start_time": "2024-05-14T12:56:17.372172",
     "status": "completed"
    },
    "tags": []
   },
   "outputs": [],
   "source": [
    "X = df['cleaned_text']\n",
    "y = df['label']\n",
    "\n",
    "X_train, X_test, y_train, y_test = train_test_split(X, y, test_size=0.2, shuffle=True)"
   ]
  },
  {
   "cell_type": "code",
   "execution_count": 10,
   "id": "92385355",
   "metadata": {
    "execution": {
     "iopub.execute_input": "2024-05-14T12:56:17.458904Z",
     "iopub.status.busy": "2024-05-14T12:56:17.458523Z",
     "iopub.status.idle": "2024-05-14T12:56:25.234591Z",
     "shell.execute_reply": "2024-05-14T12:56:25.233442Z"
    },
    "papermill": {
     "duration": 7.787054,
     "end_time": "2024-05-14T12:56:25.237219",
     "exception": false,
     "start_time": "2024-05-14T12:56:17.450165",
     "status": "completed"
    },
    "tags": []
   },
   "outputs": [],
   "source": [
    "from tensorflow.keras.preprocessing.text import Tokenizer\n",
    "from tensorflow.keras.utils import pad_sequences\n",
    "\n",
    "tokenizer = Tokenizer()\n",
    "tokenizer.fit_on_texts(df['cleaned_text'])\n",
    "\n",
    "word_index = tokenizer.word_index\n",
    "vocab_size = len(tokenizer.word_index) + 1\n",
    "max_length = df['cleaned_text'].apply(lambda x: len(str(x).split())).max()"
   ]
  },
  {
   "cell_type": "code",
   "execution_count": 11,
   "id": "e0a9a99a",
   "metadata": {
    "execution": {
     "iopub.execute_input": "2024-05-14T12:56:25.253282Z",
     "iopub.status.busy": "2024-05-14T12:56:25.252565Z",
     "iopub.status.idle": "2024-05-14T12:56:32.935607Z",
     "shell.execute_reply": "2024-05-14T12:56:32.934589Z"
    },
    "papermill": {
     "duration": 7.69354,
     "end_time": "2024-05-14T12:56:32.937943",
     "exception": false,
     "start_time": "2024-05-14T12:56:25.244403",
     "status": "completed"
    },
    "tags": []
   },
   "outputs": [
    {
     "data": {
      "text/plain": [
       "((333447, 79), (83362, 79))"
      ]
     },
     "execution_count": 11,
     "metadata": {},
     "output_type": "execute_result"
    }
   ],
   "source": [
    "X_train = tokenizer.texts_to_sequences(X_train)\n",
    "X_test = tokenizer.texts_to_sequences(X_test)\n",
    "\n",
    "X_train = pad_sequences(X_train, maxlen=max_length)\n",
    "X_test = pad_sequences(X_test, maxlen=max_length)\n",
    "\n",
    "X_train.shape, X_test.shape"
   ]
  },
  {
   "cell_type": "code",
   "execution_count": 12,
   "id": "4dd3892e",
   "metadata": {
    "execution": {
     "iopub.execute_input": "2024-05-14T12:56:32.954302Z",
     "iopub.status.busy": "2024-05-14T12:56:32.953667Z",
     "iopub.status.idle": "2024-05-14T12:56:32.981761Z",
     "shell.execute_reply": "2024-05-14T12:56:32.980553Z"
    },
    "papermill": {
     "duration": 0.038896,
     "end_time": "2024-05-14T12:56:32.984240",
     "exception": false,
     "start_time": "2024-05-14T12:56:32.945344",
     "status": "completed"
    },
    "tags": []
   },
   "outputs": [],
   "source": [
    "y_train = pd.get_dummies(y_train, dtype=int)\n",
    "y_test = pd.get_dummies(y_test, dtype=int)"
   ]
  },
  {
   "cell_type": "code",
   "execution_count": 13,
   "id": "c38dfa31",
   "metadata": {
    "execution": {
     "iopub.execute_input": "2024-05-14T12:56:33.000105Z",
     "iopub.status.busy": "2024-05-14T12:56:32.999730Z",
     "iopub.status.idle": "2024-05-14T12:56:38.484765Z",
     "shell.execute_reply": "2024-05-14T12:56:38.483466Z"
    },
    "papermill": {
     "duration": 5.496209,
     "end_time": "2024-05-14T12:56:38.487626",
     "exception": false,
     "start_time": "2024-05-14T12:56:32.991417",
     "status": "completed"
    },
    "tags": []
   },
   "outputs": [
    {
     "name": "stdout",
     "output_type": "stream",
     "text": [
      "Found 400000 word vectors.\n"
     ]
    }
   ],
   "source": [
    "# GLOVE_EMB = '/kaggle/input/glove6b300dtxt/glove.6B.300d.txt'\n",
    "\n",
    "# Using smaller dimensions (50) to reduce the number of parameters\n",
    "GLOVE_EMB = '/kaggle/input/glove-embeddings/glove.6B.50d.txt'\n",
    "\n",
    "embeddings_index = {}\n",
    "\n",
    "f = open(GLOVE_EMB , encoding='utf-8')\n",
    "for line in f:\n",
    "    values = line.split()\n",
    "    word = values[0]\n",
    "    coefs = np.array(values[1:], dtype='float32')\n",
    "    embeddings_index[word] = coefs\n",
    "f.close()\n",
    "\n",
    "print('Found %s word vectors.' %len(embeddings_index))\n",
    "\n",
    "#embeddings_index['the']\n",
    "\n",
    "# EMBEDDING_DIM = 300\n",
    "EMBEDDING_DIM = 50\n",
    "embedding_matrix = np.zeros((vocab_size, EMBEDDING_DIM))\n",
    "\n",
    "for word, i in word_index.items():\n",
    "    if word in embeddings_index:\n",
    "        embedding_matrix[i] = embeddings_index[word]"
   ]
  },
  {
   "cell_type": "code",
   "execution_count": 14,
   "id": "5ea7fb20",
   "metadata": {
    "execution": {
     "iopub.execute_input": "2024-05-14T12:56:38.504049Z",
     "iopub.status.busy": "2024-05-14T12:56:38.503649Z",
     "iopub.status.idle": "2024-05-14T12:56:38.510616Z",
     "shell.execute_reply": "2024-05-14T12:56:38.509474Z"
    },
    "papermill": {
     "duration": 0.017764,
     "end_time": "2024-05-14T12:56:38.512950",
     "exception": false,
     "start_time": "2024-05-14T12:56:38.495186",
     "status": "completed"
    },
    "tags": []
   },
   "outputs": [
    {
     "data": {
      "text/plain": [
       "(75151, 50)"
      ]
     },
     "execution_count": 14,
     "metadata": {},
     "output_type": "execute_result"
    }
   ],
   "source": [
    "embedding_matrix.shape"
   ]
  },
  {
   "cell_type": "code",
   "execution_count": 15,
   "id": "406fab03",
   "metadata": {
    "execution": {
     "iopub.execute_input": "2024-05-14T12:56:38.531180Z",
     "iopub.status.busy": "2024-05-14T12:56:38.530706Z",
     "iopub.status.idle": "2024-05-14T12:56:38.541934Z",
     "shell.execute_reply": "2024-05-14T12:56:38.540968Z"
    },
    "papermill": {
     "duration": 0.023883,
     "end_time": "2024-05-14T12:56:38.544283",
     "exception": false,
     "start_time": "2024-05-14T12:56:38.520400",
     "status": "completed"
    },
    "tags": []
   },
   "outputs": [],
   "source": [
    "from tensorflow.keras import layers\n",
    "from tensorflow.keras.initializers import Constant\n",
    "\n",
    "class TransformerBlock(layers.Layer):\n",
    "    def __init__(self, embed_dim, num_heads, ff_dim, rate=0.1):\n",
    "        super().__init__()\n",
    "        self.att = layers.MultiHeadAttention(num_heads=num_heads, key_dim=embed_dim)\n",
    "        self.ffn = keras.Sequential(\n",
    "            [layers.Dense(ff_dim, activation=\"relu\"), layers.Dense(embed_dim),]\n",
    "        )\n",
    "        self.layernorm1 = layers.LayerNormalization(epsilon=1e-6)\n",
    "        self.layernorm2 = layers.LayerNormalization(epsilon=1e-6)\n",
    "        self.dropout1 = layers.Dropout(rate)\n",
    "        self.dropout2 = layers.Dropout(rate)\n",
    "\n",
    "    def call(self, inputs):\n",
    "        attn_output = self.att(inputs, inputs)\n",
    "        attn_output = self.dropout1(attn_output)\n",
    "        out1 = self.layernorm1(inputs + attn_output)\n",
    "        ffn_output = self.ffn(out1)\n",
    "        ffn_output = self.dropout2(ffn_output)\n",
    "        return self.layernorm2(out1 + ffn_output)"
   ]
  },
  {
   "cell_type": "code",
   "execution_count": 16,
   "id": "f723a452",
   "metadata": {
    "execution": {
     "iopub.execute_input": "2024-05-14T12:56:38.561753Z",
     "iopub.status.busy": "2024-05-14T12:56:38.561385Z",
     "iopub.status.idle": "2024-05-14T12:56:38.568505Z",
     "shell.execute_reply": "2024-05-14T12:56:38.567310Z"
    },
    "papermill": {
     "duration": 0.018542,
     "end_time": "2024-05-14T12:56:38.570759",
     "exception": false,
     "start_time": "2024-05-14T12:56:38.552217",
     "status": "completed"
    },
    "tags": []
   },
   "outputs": [],
   "source": [
    "class TokenAndPositionEmbedding(layers.Layer):\n",
    "    def __init__(self, maxlen, vocab_size, embed_dim):\n",
    "        super().__init__()\n",
    "#         self.token_emb = layers.Embedding(input_dim=vocab_size, output_dim=embed_dim)\n",
    "        # Using pretrained Embedding layer\n",
    "        self.token_emb = layers.Embedding(input_dim=vocab_size, output_dim=embed_dim, embeddings_initializer=Constant(embedding_matrix), input_length=maxlen, trainable=False)\n",
    "        self.pos_emb = layers.Embedding(input_dim=maxlen, output_dim=embed_dim)\n",
    "\n",
    "    def call(self, x):\n",
    "        maxlen = ops.shape(x)[-1]\n",
    "        positions = ops.arange(start=0, stop=maxlen, step=1)\n",
    "        positions = self.pos_emb(positions)\n",
    "        x = self.token_emb(x)\n",
    "        return x + positions"
   ]
  },
  {
   "cell_type": "code",
   "execution_count": 17,
   "id": "eadc8acc",
   "metadata": {
    "execution": {
     "iopub.execute_input": "2024-05-14T12:56:38.587218Z",
     "iopub.status.busy": "2024-05-14T12:56:38.586802Z",
     "iopub.status.idle": "2024-05-14T12:56:39.388672Z",
     "shell.execute_reply": "2024-05-14T12:56:39.387744Z"
    },
    "papermill": {
     "duration": 0.812946,
     "end_time": "2024-05-14T12:56:39.391178",
     "exception": false,
     "start_time": "2024-05-14T12:56:38.578232",
     "status": "completed"
    },
    "tags": []
   },
   "outputs": [],
   "source": [
    "from tensorflow import keras\n",
    "from tensorflow.keras import ops\n",
    "\n",
    "# Using smaller dimensions (50) to reduce the number of parameters\n",
    "embed_dim = 50  # Embedding size for each token\n",
    "num_heads = 2  # Number of attention heads\n",
    "ff_dim = 32  # Hidden layer size in feed forward network inside transformer\n",
    "\n",
    "inputs = layers.Input(shape=(X_train.shape[1],))\n",
    "embedding_layer = TokenAndPositionEmbedding(max_length, vocab_size, embed_dim)\n",
    "x = embedding_layer(inputs)\n",
    "\n",
    "transformer_block_1 = TransformerBlock(embed_dim, num_heads, ff_dim)\n",
    "x = transformer_block_1(x)\n",
    "transformer_block_2 = TransformerBlock(embed_dim, num_heads, ff_dim)\n",
    "x = transformer_block_2(x)\n",
    "# transformer_block_3 = TransformerBlock(embed_dim, num_heads, ff_dim)\n",
    "# x = transformer_block_3(x)\n",
    "\n",
    "x = layers.GlobalAveragePooling1D()(x)\n",
    "x = layers.Dropout(0.1)(x)\n",
    "x = layers.Dense(32, activation=\"relu\")(x)\n",
    "x = layers.Dropout(0.1)(x)\n",
    "# x = layers.Dense(16, activation=\"relu\")(x)\n",
    "# x = layers.Dropout(0.1)(x)\n",
    "outputs = layers.Dense(6, activation=\"softmax\")(x)\n",
    "\n",
    "model = keras.Model(inputs=inputs, outputs=outputs)\n",
    "\n",
    "model.compile(optimizer=\"adam\", loss=\"categorical_crossentropy\", metrics=[\"accuracy\"])"
   ]
  },
  {
   "cell_type": "code",
   "execution_count": 18,
   "id": "0449ade4",
   "metadata": {
    "execution": {
     "iopub.execute_input": "2024-05-14T12:56:39.407962Z",
     "iopub.status.busy": "2024-05-14T12:56:39.407507Z",
     "iopub.status.idle": "2024-05-14T12:56:39.435095Z",
     "shell.execute_reply": "2024-05-14T12:56:39.434019Z"
    },
    "papermill": {
     "duration": 0.038329,
     "end_time": "2024-05-14T12:56:39.437097",
     "exception": false,
     "start_time": "2024-05-14T12:56:39.398768",
     "status": "completed"
    },
    "tags": []
   },
   "outputs": [
    {
     "data": {
      "text/html": [
       "<pre style=\"white-space:pre;overflow-x:auto;line-height:normal;font-family:Menlo,'DejaVu Sans Mono',consolas,'Courier New',monospace\"><span style=\"font-weight: bold\">Model: \"functional_3\"</span>\n",
       "</pre>\n"
      ],
      "text/plain": [
       "\u001b[1mModel: \"functional_3\"\u001b[0m\n"
      ]
     },
     "metadata": {},
     "output_type": "display_data"
    },
    {
     "data": {
      "text/html": [
       "<pre style=\"white-space:pre;overflow-x:auto;line-height:normal;font-family:Menlo,'DejaVu Sans Mono',consolas,'Courier New',monospace\">┏━━━━━━━━━━━━━━━━━━━━━━━━━━━━━━━━━┳━━━━━━━━━━━━━━━━━━━━━━━━┳━━━━━━━━━━━━━━━┓\n",
       "┃<span style=\"font-weight: bold\"> Layer (type)                    </span>┃<span style=\"font-weight: bold\"> Output Shape           </span>┃<span style=\"font-weight: bold\">       Param # </span>┃\n",
       "┡━━━━━━━━━━━━━━━━━━━━━━━━━━━━━━━━━╇━━━━━━━━━━━━━━━━━━━━━━━━╇━━━━━━━━━━━━━━━┩\n",
       "│ input_layer (<span style=\"color: #0087ff; text-decoration-color: #0087ff\">InputLayer</span>)        │ (<span style=\"color: #00d7ff; text-decoration-color: #00d7ff\">None</span>, <span style=\"color: #00af00; text-decoration-color: #00af00\">79</span>)             │             <span style=\"color: #00af00; text-decoration-color: #00af00\">0</span> │\n",
       "├─────────────────────────────────┼────────────────────────┼───────────────┤\n",
       "│ token_and_position_embedding    │ (<span style=\"color: #00d7ff; text-decoration-color: #00d7ff\">None</span>, <span style=\"color: #00af00; text-decoration-color: #00af00\">79</span>, <span style=\"color: #00af00; text-decoration-color: #00af00\">50</span>)         │     <span style=\"color: #00af00; text-decoration-color: #00af00\">3,761,500</span> │\n",
       "│ (<span style=\"color: #0087ff; text-decoration-color: #0087ff\">TokenAndPositionEmbedding</span>)     │                        │               │\n",
       "├─────────────────────────────────┼────────────────────────┼───────────────┤\n",
       "│ transformer_block               │ (<span style=\"color: #00d7ff; text-decoration-color: #00d7ff\">None</span>, <span style=\"color: #00af00; text-decoration-color: #00af00\">79</span>, <span style=\"color: #00af00; text-decoration-color: #00af00\">50</span>)         │        <span style=\"color: #00af00; text-decoration-color: #00af00\">23,832</span> │\n",
       "│ (<span style=\"color: #0087ff; text-decoration-color: #0087ff\">TransformerBlock</span>)              │                        │               │\n",
       "├─────────────────────────────────┼────────────────────────┼───────────────┤\n",
       "│ transformer_block_1             │ (<span style=\"color: #00d7ff; text-decoration-color: #00d7ff\">None</span>, <span style=\"color: #00af00; text-decoration-color: #00af00\">79</span>, <span style=\"color: #00af00; text-decoration-color: #00af00\">50</span>)         │        <span style=\"color: #00af00; text-decoration-color: #00af00\">23,832</span> │\n",
       "│ (<span style=\"color: #0087ff; text-decoration-color: #0087ff\">TransformerBlock</span>)              │                        │               │\n",
       "├─────────────────────────────────┼────────────────────────┼───────────────┤\n",
       "│ global_average_pooling1d        │ (<span style=\"color: #00d7ff; text-decoration-color: #00d7ff\">None</span>, <span style=\"color: #00af00; text-decoration-color: #00af00\">50</span>)             │             <span style=\"color: #00af00; text-decoration-color: #00af00\">0</span> │\n",
       "│ (<span style=\"color: #0087ff; text-decoration-color: #0087ff\">GlobalAveragePooling1D</span>)        │                        │               │\n",
       "├─────────────────────────────────┼────────────────────────┼───────────────┤\n",
       "│ dropout_6 (<span style=\"color: #0087ff; text-decoration-color: #0087ff\">Dropout</span>)             │ (<span style=\"color: #00d7ff; text-decoration-color: #00d7ff\">None</span>, <span style=\"color: #00af00; text-decoration-color: #00af00\">50</span>)             │             <span style=\"color: #00af00; text-decoration-color: #00af00\">0</span> │\n",
       "├─────────────────────────────────┼────────────────────────┼───────────────┤\n",
       "│ dense_4 (<span style=\"color: #0087ff; text-decoration-color: #0087ff\">Dense</span>)                 │ (<span style=\"color: #00d7ff; text-decoration-color: #00d7ff\">None</span>, <span style=\"color: #00af00; text-decoration-color: #00af00\">32</span>)             │         <span style=\"color: #00af00; text-decoration-color: #00af00\">1,632</span> │\n",
       "├─────────────────────────────────┼────────────────────────┼───────────────┤\n",
       "│ dropout_7 (<span style=\"color: #0087ff; text-decoration-color: #0087ff\">Dropout</span>)             │ (<span style=\"color: #00d7ff; text-decoration-color: #00d7ff\">None</span>, <span style=\"color: #00af00; text-decoration-color: #00af00\">32</span>)             │             <span style=\"color: #00af00; text-decoration-color: #00af00\">0</span> │\n",
       "├─────────────────────────────────┼────────────────────────┼───────────────┤\n",
       "│ dense_5 (<span style=\"color: #0087ff; text-decoration-color: #0087ff\">Dense</span>)                 │ (<span style=\"color: #00d7ff; text-decoration-color: #00d7ff\">None</span>, <span style=\"color: #00af00; text-decoration-color: #00af00\">6</span>)              │           <span style=\"color: #00af00; text-decoration-color: #00af00\">198</span> │\n",
       "└─────────────────────────────────┴────────────────────────┴───────────────┘\n",
       "</pre>\n"
      ],
      "text/plain": [
       "┏━━━━━━━━━━━━━━━━━━━━━━━━━━━━━━━━━┳━━━━━━━━━━━━━━━━━━━━━━━━┳━━━━━━━━━━━━━━━┓\n",
       "┃\u001b[1m \u001b[0m\u001b[1mLayer (type)                   \u001b[0m\u001b[1m \u001b[0m┃\u001b[1m \u001b[0m\u001b[1mOutput Shape          \u001b[0m\u001b[1m \u001b[0m┃\u001b[1m \u001b[0m\u001b[1m      Param #\u001b[0m\u001b[1m \u001b[0m┃\n",
       "┡━━━━━━━━━━━━━━━━━━━━━━━━━━━━━━━━━╇━━━━━━━━━━━━━━━━━━━━━━━━╇━━━━━━━━━━━━━━━┩\n",
       "│ input_layer (\u001b[38;5;33mInputLayer\u001b[0m)        │ (\u001b[38;5;45mNone\u001b[0m, \u001b[38;5;34m79\u001b[0m)             │             \u001b[38;5;34m0\u001b[0m │\n",
       "├─────────────────────────────────┼────────────────────────┼───────────────┤\n",
       "│ token_and_position_embedding    │ (\u001b[38;5;45mNone\u001b[0m, \u001b[38;5;34m79\u001b[0m, \u001b[38;5;34m50\u001b[0m)         │     \u001b[38;5;34m3,761,500\u001b[0m │\n",
       "│ (\u001b[38;5;33mTokenAndPositionEmbedding\u001b[0m)     │                        │               │\n",
       "├─────────────────────────────────┼────────────────────────┼───────────────┤\n",
       "│ transformer_block               │ (\u001b[38;5;45mNone\u001b[0m, \u001b[38;5;34m79\u001b[0m, \u001b[38;5;34m50\u001b[0m)         │        \u001b[38;5;34m23,832\u001b[0m │\n",
       "│ (\u001b[38;5;33mTransformerBlock\u001b[0m)              │                        │               │\n",
       "├─────────────────────────────────┼────────────────────────┼───────────────┤\n",
       "│ transformer_block_1             │ (\u001b[38;5;45mNone\u001b[0m, \u001b[38;5;34m79\u001b[0m, \u001b[38;5;34m50\u001b[0m)         │        \u001b[38;5;34m23,832\u001b[0m │\n",
       "│ (\u001b[38;5;33mTransformerBlock\u001b[0m)              │                        │               │\n",
       "├─────────────────────────────────┼────────────────────────┼───────────────┤\n",
       "│ global_average_pooling1d        │ (\u001b[38;5;45mNone\u001b[0m, \u001b[38;5;34m50\u001b[0m)             │             \u001b[38;5;34m0\u001b[0m │\n",
       "│ (\u001b[38;5;33mGlobalAveragePooling1D\u001b[0m)        │                        │               │\n",
       "├─────────────────────────────────┼────────────────────────┼───────────────┤\n",
       "│ dropout_6 (\u001b[38;5;33mDropout\u001b[0m)             │ (\u001b[38;5;45mNone\u001b[0m, \u001b[38;5;34m50\u001b[0m)             │             \u001b[38;5;34m0\u001b[0m │\n",
       "├─────────────────────────────────┼────────────────────────┼───────────────┤\n",
       "│ dense_4 (\u001b[38;5;33mDense\u001b[0m)                 │ (\u001b[38;5;45mNone\u001b[0m, \u001b[38;5;34m32\u001b[0m)             │         \u001b[38;5;34m1,632\u001b[0m │\n",
       "├─────────────────────────────────┼────────────────────────┼───────────────┤\n",
       "│ dropout_7 (\u001b[38;5;33mDropout\u001b[0m)             │ (\u001b[38;5;45mNone\u001b[0m, \u001b[38;5;34m32\u001b[0m)             │             \u001b[38;5;34m0\u001b[0m │\n",
       "├─────────────────────────────────┼────────────────────────┼───────────────┤\n",
       "│ dense_5 (\u001b[38;5;33mDense\u001b[0m)                 │ (\u001b[38;5;45mNone\u001b[0m, \u001b[38;5;34m6\u001b[0m)              │           \u001b[38;5;34m198\u001b[0m │\n",
       "└─────────────────────────────────┴────────────────────────┴───────────────┘\n"
      ]
     },
     "metadata": {},
     "output_type": "display_data"
    },
    {
     "data": {
      "text/html": [
       "<pre style=\"white-space:pre;overflow-x:auto;line-height:normal;font-family:Menlo,'DejaVu Sans Mono',consolas,'Courier New',monospace\"><span style=\"font-weight: bold\"> Total params: </span><span style=\"color: #00af00; text-decoration-color: #00af00\">3,810,994</span> (14.54 MB)\n",
       "</pre>\n"
      ],
      "text/plain": [
       "\u001b[1m Total params: \u001b[0m\u001b[38;5;34m3,810,994\u001b[0m (14.54 MB)\n"
      ]
     },
     "metadata": {},
     "output_type": "display_data"
    },
    {
     "data": {
      "text/html": [
       "<pre style=\"white-space:pre;overflow-x:auto;line-height:normal;font-family:Menlo,'DejaVu Sans Mono',consolas,'Courier New',monospace\"><span style=\"font-weight: bold\"> Trainable params: </span><span style=\"color: #00af00; text-decoration-color: #00af00\">53,444</span> (208.77 KB)\n",
       "</pre>\n"
      ],
      "text/plain": [
       "\u001b[1m Trainable params: \u001b[0m\u001b[38;5;34m53,444\u001b[0m (208.77 KB)\n"
      ]
     },
     "metadata": {},
     "output_type": "display_data"
    },
    {
     "data": {
      "text/html": [
       "<pre style=\"white-space:pre;overflow-x:auto;line-height:normal;font-family:Menlo,'DejaVu Sans Mono',consolas,'Courier New',monospace\"><span style=\"font-weight: bold\"> Non-trainable params: </span><span style=\"color: #00af00; text-decoration-color: #00af00\">3,757,550</span> (14.33 MB)\n",
       "</pre>\n"
      ],
      "text/plain": [
       "\u001b[1m Non-trainable params: \u001b[0m\u001b[38;5;34m3,757,550\u001b[0m (14.33 MB)\n"
      ]
     },
     "metadata": {},
     "output_type": "display_data"
    }
   ],
   "source": [
    "model.summary()"
   ]
  },
  {
   "cell_type": "code",
   "execution_count": 19,
   "id": "efd10764",
   "metadata": {
    "execution": {
     "iopub.execute_input": "2024-05-14T12:56:39.455320Z",
     "iopub.status.busy": "2024-05-14T12:56:39.454925Z",
     "iopub.status.idle": "2024-05-14T12:56:39.459649Z",
     "shell.execute_reply": "2024-05-14T12:56:39.458392Z"
    },
    "papermill": {
     "duration": 0.016553,
     "end_time": "2024-05-14T12:56:39.461907",
     "exception": false,
     "start_time": "2024-05-14T12:56:39.445354",
     "status": "completed"
    },
    "tags": []
   },
   "outputs": [],
   "source": [
    "# from tensorflow.keras.utils import plot_model\n",
    "# plot_model(model, show_trainable=True,show_layer_names=True)"
   ]
  },
  {
   "cell_type": "code",
   "execution_count": 20,
   "id": "6d57fc1a",
   "metadata": {
    "execution": {
     "iopub.execute_input": "2024-05-14T12:56:39.480831Z",
     "iopub.status.busy": "2024-05-14T12:56:39.479915Z",
     "iopub.status.idle": "2024-05-14T14:39:06.764889Z",
     "shell.execute_reply": "2024-05-14T14:39:06.763505Z"
    },
    "papermill": {
     "duration": 6153.913434,
     "end_time": "2024-05-14T14:39:13.383811",
     "exception": false,
     "start_time": "2024-05-14T12:56:39.470377",
     "status": "completed"
    },
    "tags": []
   },
   "outputs": [
    {
     "name": "stdout",
     "output_type": "stream",
     "text": [
      "Epoch 1/10\n",
      "\u001b[1m10421/10421\u001b[0m \u001b[32m━━━━━━━━━━━━━━━━━━━━\u001b[0m\u001b[37m\u001b[0m \u001b[1m611s\u001b[0m 58ms/step - accuracy: 0.7709 - loss: 0.6257 - val_accuracy: 0.8710 - val_loss: 0.3012\n",
      "Epoch 2/10\n",
      "\u001b[1m10421/10421\u001b[0m \u001b[32m━━━━━━━━━━━━━━━━━━━━\u001b[0m\u001b[37m\u001b[0m \u001b[1m624s\u001b[0m 58ms/step - accuracy: 0.8831 - loss: 0.2719 - val_accuracy: 0.8952 - val_loss: 0.2091\n",
      "Epoch 3/10\n",
      "\u001b[1m10421/10421\u001b[0m \u001b[32m━━━━━━━━━━━━━━━━━━━━\u001b[0m\u001b[37m\u001b[0m \u001b[1m600s\u001b[0m 58ms/step - accuracy: 0.8954 - loss: 0.2197 - val_accuracy: 0.8980 - val_loss: 0.1960\n",
      "Epoch 4/10\n",
      "\u001b[1m10421/10421\u001b[0m \u001b[32m━━━━━━━━━━━━━━━━━━━━\u001b[0m\u001b[37m\u001b[0m \u001b[1m623s\u001b[0m 58ms/step - accuracy: 0.8981 - loss: 0.2045 - val_accuracy: 0.8992 - val_loss: 0.1962\n",
      "Epoch 5/10\n",
      "\u001b[1m10421/10421\u001b[0m \u001b[32m━━━━━━━━━━━━━━━━━━━━\u001b[0m\u001b[37m\u001b[0m \u001b[1m605s\u001b[0m 58ms/step - accuracy: 0.9002 - loss: 0.1985 - val_accuracy: 0.9025 - val_loss: 0.1846\n",
      "Epoch 6/10\n",
      "\u001b[1m10421/10421\u001b[0m \u001b[32m━━━━━━━━━━━━━━━━━━━━\u001b[0m\u001b[37m\u001b[0m \u001b[1m623s\u001b[0m 58ms/step - accuracy: 0.9031 - loss: 0.1931 - val_accuracy: 0.9004 - val_loss: 0.1878\n",
      "Epoch 7/10\n",
      "\u001b[1m10421/10421\u001b[0m \u001b[32m━━━━━━━━━━━━━━━━━━━━\u001b[0m\u001b[37m\u001b[0m \u001b[1m608s\u001b[0m 58ms/step - accuracy: 0.9042 - loss: 0.1894 - val_accuracy: 0.9021 - val_loss: 0.1825\n",
      "Epoch 8/10\n",
      "\u001b[1m10421/10421\u001b[0m \u001b[32m━━━━━━━━━━━━━━━━━━━━\u001b[0m\u001b[37m\u001b[0m \u001b[1m645s\u001b[0m 62ms/step - accuracy: 0.9033 - loss: 0.1896 - val_accuracy: 0.9037 - val_loss: 0.1862\n",
      "Epoch 9/10\n",
      "\u001b[1m10421/10421\u001b[0m \u001b[32m━━━━━━━━━━━━━━━━━━━━\u001b[0m\u001b[37m\u001b[0m \u001b[1m605s\u001b[0m 58ms/step - accuracy: 0.9037 - loss: 0.1874 - val_accuracy: 0.9028 - val_loss: 0.1799\n",
      "Epoch 10/10\n",
      "\u001b[1m10421/10421\u001b[0m \u001b[32m━━━━━━━━━━━━━━━━━━━━\u001b[0m\u001b[37m\u001b[0m \u001b[1m603s\u001b[0m 58ms/step - accuracy: 0.9034 - loss: 0.1884 - val_accuracy: 0.9044 - val_loss: 0.1793\n"
     ]
    }
   ],
   "source": [
    "history = model.fit(X_train, y_train, batch_size=32, epochs=10, validation_data=(X_test, y_test))"
   ]
  },
  {
   "cell_type": "code",
   "execution_count": 21,
   "id": "7106b600",
   "metadata": {
    "execution": {
     "iopub.execute_input": "2024-05-14T14:39:26.549597Z",
     "iopub.status.busy": "2024-05-14T14:39:26.549199Z",
     "iopub.status.idle": "2024-05-14T14:39:26.767252Z",
     "shell.execute_reply": "2024-05-14T14:39:26.766107Z"
    },
    "papermill": {
     "duration": 6.949603,
     "end_time": "2024-05-14T14:39:26.769416",
     "exception": false,
     "start_time": "2024-05-14T14:39:19.819813",
     "status": "completed"
    },
    "tags": []
   },
   "outputs": [
    {
     "data": {
      "image/png": "[encoded data removed]",
      "text/plain": [
       "<Figure size 640x480 with 1 Axes>"
      ]
     },
     "metadata": {},
     "output_type": "display_data"
    }
   ],
   "source": [
    "loss = history.history['loss']\n",
    "val_loss = history.history['val_loss']\n",
    "\n",
    "plt.plot(loss, label=\"Training loss\")\n",
    "plt.plot(val_loss, label=\"Validation loss\")\n",
    "\n",
    "plt.legend()\n",
    "plt.grid()\n",
    "plt.show() "
   ]
  },
  {
   "cell_type": "code",
   "execution_count": 22,
   "id": "ab317e17",
   "metadata": {
    "execution": {
     "iopub.execute_input": "2024-05-14T14:39:39.938680Z",
     "iopub.status.busy": "2024-05-14T14:39:39.938285Z",
     "iopub.status.idle": "2024-05-14T14:39:40.182317Z",
     "shell.execute_reply": "2024-05-14T14:39:40.181218Z"
    },
    "papermill": {
     "duration": 6.965056,
     "end_time": "2024-05-14T14:39:40.184574",
     "exception": false,
     "start_time": "2024-05-14T14:39:33.219518",
     "status": "completed"
    },
    "tags": []
   },
   "outputs": [
    {
     "data": {
      "image/png": "[encoded data removed]",
      "text/plain": [
       "<Figure size 640x480 with 1 Axes>"
      ]
     },
     "metadata": {},
     "output_type": "display_data"
    }
   ],
   "source": [
    "accuracy = history.history['accuracy']\n",
    "val_accuracy = history.history['val_accuracy']\n",
    "\n",
    "plt.plot(accuracy, label=\"Training accuracy\")\n",
    "plt.plot(val_accuracy, label=\"Validation accuracy\")\n",
    "\n",
    "plt.legend()\n",
    "plt.grid()\n",
    "plt.show()"
   ]
  },
  {
   "cell_type": "markdown",
   "id": "598a2ccc",
   "metadata": {
    "papermill": {
     "duration": 6.75017,
     "end_time": "2024-05-14T14:39:53.417661",
     "exception": false,
     "start_time": "2024-05-14T14:39:46.667491",
     "status": "completed"
    },
    "tags": []
   },
   "source": [
    "Lets compare the first Ten true labels with their corresponding predicted labels."
   ]
  },
  {
   "cell_type": "code",
   "execution_count": 23,
   "id": "14597fbf",
   "metadata": {
    "execution": {
     "iopub.execute_input": "2024-05-14T14:40:06.493115Z",
     "iopub.status.busy": "2024-05-14T14:40:06.492690Z",
     "iopub.status.idle": "2024-05-14T14:41:01.672840Z",
     "shell.execute_reply": "2024-05-14T14:41:01.671802Z"
    },
    "papermill": {
     "duration": 61.850651,
     "end_time": "2024-05-14T14:41:01.675183",
     "exception": false,
     "start_time": "2024-05-14T14:39:59.824532",
     "status": "completed"
    },
    "tags": []
   },
   "outputs": [
    {
     "name": "stdout",
     "output_type": "stream",
     "text": [
      "\u001b[1m2606/2606\u001b[0m \u001b[32m━━━━━━━━━━━━━━━━━━━━\u001b[0m\u001b[37m\u001b[0m \u001b[1m54s\u001b[0m 21ms/step\n",
      "0.9044048847196564\n"
     ]
    }
   ],
   "source": [
    "predictions = model.predict(X_test)\n",
    "y_pred = np.argmax(predictions, axis=1)\n",
    "\n",
    "# Convert y_test from one-hot encoded format like [0 0 1 0 0 0] to categorical labels by selecting the index with the value 1.\n",
    "y_test = np.argmax(y_test, axis=1)\n",
    "\n",
    "print(accuracy_score(y_pred, y_test))"
   ]
  },
  {
   "cell_type": "code",
   "execution_count": 24,
   "id": "b310b279",
   "metadata": {
    "execution": {
     "iopub.execute_input": "2024-05-14T14:41:14.712769Z",
     "iopub.status.busy": "2024-05-14T14:41:14.712385Z",
     "iopub.status.idle": "2024-05-14T14:41:14.735640Z",
     "shell.execute_reply": "2024-05-14T14:41:14.734532Z"
    },
    "papermill": {
     "duration": 6.604303,
     "end_time": "2024-05-14T14:41:14.738018",
     "exception": false,
     "start_time": "2024-05-14T14:41:08.133715",
     "status": "completed"
    },
    "tags": []
   },
   "outputs": [],
   "source": [
    "comparison_df = pd.DataFrame()\n",
    "comparison_df['y_pred'] = y_pred\n",
    "comparison_df['y_test'] = y_test\n",
    "\n",
    "comparison_df['y_pred'] = comparison_df['y_pred'].map({0:'sadness', 1:'joy', 2:'love', 3:'anger',4:'fear', 5: 'surprise'})\n",
    "comparison_df['y_test'] = comparison_df['y_test'].map({0:'sadness', 1:'joy', 2:'love', 3:'anger',4:'fear', 5: 'surprise'})"
   ]
  },
  {
   "cell_type": "code",
   "execution_count": 25,
   "id": "824403b2",
   "metadata": {
    "execution": {
     "iopub.execute_input": "2024-05-14T14:41:27.992986Z",
     "iopub.status.busy": "2024-05-14T14:41:27.992132Z",
     "iopub.status.idle": "2024-05-14T14:41:28.004076Z",
     "shell.execute_reply": "2024-05-14T14:41:28.002997Z"
    },
    "papermill": {
     "duration": 6.452546,
     "end_time": "2024-05-14T14:41:28.006110",
     "exception": false,
     "start_time": "2024-05-14T14:41:21.553564",
     "status": "completed"
    },
    "tags": []
   },
   "outputs": [
    {
     "data": {
      "text/html": [
       "<div>\n",
       "<style scoped>\n",
       "    .dataframe tbody tr th:only-of-type {\n",
       "        vertical-align: middle;\n",
       "    }\n",
       "\n",
       "    .dataframe tbody tr th {\n",
       "        vertical-align: top;\n",
       "    }\n",
       "\n",
       "    .dataframe thead th {\n",
       "        text-align: right;\n",
       "    }\n",
       "</style>\n",
       "<table border=\"1\" class=\"dataframe\">\n",
       "  <thead>\n",
       "    <tr style=\"text-align: right;\">\n",
       "      <th></th>\n",
       "      <th>y_pred</th>\n",
       "      <th>y_test</th>\n",
       "    </tr>\n",
       "  </thead>\n",
       "  <tbody>\n",
       "    <tr>\n",
       "      <th>0</th>\n",
       "      <td>love</td>\n",
       "      <td>love</td>\n",
       "    </tr>\n",
       "    <tr>\n",
       "      <th>1</th>\n",
       "      <td>fear</td>\n",
       "      <td>anger</td>\n",
       "    </tr>\n",
       "    <tr>\n",
       "      <th>2</th>\n",
       "      <td>joy</td>\n",
       "      <td>anger</td>\n",
       "    </tr>\n",
       "    <tr>\n",
       "      <th>3</th>\n",
       "      <td>anger</td>\n",
       "      <td>anger</td>\n",
       "    </tr>\n",
       "    <tr>\n",
       "      <th>4</th>\n",
       "      <td>fear</td>\n",
       "      <td>fear</td>\n",
       "    </tr>\n",
       "    <tr>\n",
       "      <th>5</th>\n",
       "      <td>joy</td>\n",
       "      <td>joy</td>\n",
       "    </tr>\n",
       "    <tr>\n",
       "      <th>6</th>\n",
       "      <td>joy</td>\n",
       "      <td>joy</td>\n",
       "    </tr>\n",
       "    <tr>\n",
       "      <th>7</th>\n",
       "      <td>joy</td>\n",
       "      <td>joy</td>\n",
       "    </tr>\n",
       "    <tr>\n",
       "      <th>8</th>\n",
       "      <td>sadness</td>\n",
       "      <td>sadness</td>\n",
       "    </tr>\n",
       "    <tr>\n",
       "      <th>9</th>\n",
       "      <td>joy</td>\n",
       "      <td>joy</td>\n",
       "    </tr>\n",
       "  </tbody>\n",
       "</table>\n",
       "</div>"
      ],
      "text/plain": [
       "    y_pred   y_test\n",
       "0     love     love\n",
       "1     fear    anger\n",
       "2      joy    anger\n",
       "3    anger    anger\n",
       "4     fear     fear\n",
       "5      joy      joy\n",
       "6      joy      joy\n",
       "7      joy      joy\n",
       "8  sadness  sadness\n",
       "9      joy      joy"
      ]
     },
     "execution_count": 25,
     "metadata": {},
     "output_type": "execute_result"
    }
   ],
   "source": [
    "# print first 10 predicted and true labels to have a look\n",
    "comparison_df[:10]"
   ]
  },
  {
   "cell_type": "markdown",
   "id": "7961a4e8",
   "metadata": {
    "papermill": {
     "duration": 6.73625,
     "end_time": "2024-05-14T14:41:41.347255",
     "exception": false,
     "start_time": "2024-05-14T14:41:34.611005",
     "status": "completed"
    },
    "tags": []
   },
   "source": [
    "<div style=\"color:white;\n",
    "            display:fill;\n",
    "            border-radius:15px;\n",
    "            background-color:skyblue;\n",
    "            font-size:100%;\n",
    "            font-family:Verdana;\n",
    "            letter-spacing:1px\">\n",
    "    <h2 style='padding: 20px;\n",
    "              color:black;\n",
    "              text-align:center;'>\n",
    "        IF YOU LIKED THE NOTEBOOK PLEASE DO UPVOTE!  \n",
    "    </h2>\n",
    "    </div>"
   ]
  }
 ],
 "metadata": {
  "kaggle": {
   "accelerator": "none",
   "dataSources": [
    {
     "datasetId": 5504,
     "sourceId": 8240,
     "sourceType": "datasetVersion"
    },
    {
     "datasetId": 870709,
     "sourceId": 1483651,
     "sourceType": "datasetVersion"
    },
    {
     "datasetId": 4403839,
     "sourceId": 7563141,
     "sourceType": "datasetVersion"
    }
   ],
   "dockerImageVersionId": 30698,
   "isGpuEnabled": false,
   "isInternetEnabled": true,
   "language": "python",
   "sourceType": "notebook"
  },
  "kernelspec": {
   "display_name": "Python 3",
   "language": "python",
   "name": "python3"
  },
  "language_info": {
   "codemirror_mode": {
    "name": "ipython",
    "version": 3
   },
   "file_extension": ".py",
   "mimetype": "text/x-python",
   "name": "python",
   "nbconvert_exporter": "python",
   "pygments_lexer": "ipython3",
   "version": "3.10.13"
  },
  "papermill": {
   "default_parameters": {},
   "duration": 6372.081477,
   "end_time": "2024-05-14T14:41:50.674800",
   "environment_variables": {},
   "exception": null,
   "input_path": "__notebook__.ipynb",
   "output_path": "__notebook__.ipynb",
   "parameters": {},
   "start_time": "2024-05-14T12:55:38.593323",
   "version": "2.5.0"
  }
 },
 "nbformat": 4,
 "nbformat_minor": 5
}
